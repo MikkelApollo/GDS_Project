{
 "cells": [
  {
   "cell_type": "code",
   "execution_count": 37,
   "metadata": {},
   "outputs": [],
   "source": [
    "import re\n",
    "from cleantext import clean\n",
    "import matplotlib.pyplot as plt\n",
    "import pandas as pd\n",
    "from nltk.tokenize import word_tokenize\n",
    "from nltk.corpus import stopwords"
   ]
  },
  {
   "cell_type": "code",
   "execution_count": 38,
   "metadata": {},
   "outputs": [],
   "source": [
    "stop_words = set(stopwords.words('english'))\n",
    "\n",
    "def clean_content(df):\n",
    "  for i in range(df.shape[0]):\n",
    "    df.iat[i,4] = clean(re.sub(r'[a-zA-Z]{3,9}\\.? ?\\d{1,2}(,|.) ?\\d{2,4}', '<DATE>', df.iat[i,4]), no_urls=True, no_emails=True, no_numbers=True, replace_with_number='<NUM>')\n",
    "\n",
    "def process_content(df):\n",
    "  for i in range(df.shape[0]):\n",
    "    df.iat[i,4] = [w for w in word_tokenize(df.iat[i,4]) if w not in stop_words]"
   ]
  },
  {
   "cell_type": "code",
   "execution_count": 40,
   "metadata": {},
   "outputs": [
    {
     "name": "stdout",
     "output_type": "stream",
     "text": [
      "['donald', 'trump', 'unnerving', 'ability', 'ability', 'create', 'reality', 'convince', 'millions', 'americans', 'says', 'true', '.', 'problem', 'president', 'lying', 'believes', 'lies', '.', 'new', 'poll', 'shows', 'get', 'country', 'deep', 'trouble', '.', 'new', 'abc', 'news/washington', 'post', 'poll', 'came', 'president', \"'s\", 'physician', 'gave', 'physical', 'mental', 'exam', '.', 'doctor', 'gave', 'trump', 'clean', 'bill', 'health', ',', 'added', 'inch', 'height', ',', 'claimed', 'fit', 'serve', 'seven', 'years', '.', 'poll', 'able', 'capture', 'americans', \"'\", 'opinions', 'new', 'book', 'came', 'indicating', 'people', 'around', 'trump', 'questioned', 'emotional', 'stability', 'ability', 'hold', 'office', '.', 'addition', ',', 'new', 'poll', 'gave', 'respondents', 'time', 'hear', 'trump', 'tell', 'public', '``', 'stable', 'genius', \"''\", 'interviewed', '.', 'said', ':', \"'actually\", ',', 'throughout', 'life', ',', 'two', 'greatest', 'assets', 'mental', 'stability', ',', 'like', ',', 'really', 'smart', '.', \"'\", 'abc/washington', 'post', 'poll', 'discovered', '<', 'num', '>', 'percent', 'people', 'interviewed', 'believed', 'president', 'genius', '.', 'left', 'full', '<', 'num', '>', 'percent', 'saw', 'lie', '.', ',', 'question', 'trump', \"'s\", 'mental', 'stability', '.', 'poll', 'found', 'nearly', 'even', 'divide', 'throughout', 'nation', '.', 'asked', 'president', 'stable', ',', '<', 'num', '>', 'percent', 'interviewed', 'said', ',', '<', 'num', '>', 'percent', 'believed', 'stable', '.', 'abc', 'news/washington', 'post', 'poll', 'taken', 'january', '<', 'num', '>', '<', 'date', '>', '.', 'random', 'sample', 'consisted', '<', 'num', '>', 'adults', 'interviewed', 'landline', 'cell', 'phone', 'english', 'spanish', '.', 'margin', 'error', '+/-', '<', 'num', '>', 'percentage', 'points', '.', 'featured', 'image', 'via', 'getty', 'images/drew', 'angerer']\n"
     ]
    }
   ],
   "source": [
    "fnc_sample = pd.read_csv('FakeNewsCorpus_Sample.csv', usecols=[*range(1,15)])\n",
    "\n",
    "clean_content(fnc_sample)\n",
    "\n",
    "process_content(fnc_sample)\n",
    "\n",
    "print(fnc_sample['content'][4])"
   ]
  },
  {
   "cell_type": "code",
   "execution_count": null,
   "metadata": {},
   "outputs": [],
   "source": []
  }
 ],
 "metadata": {
  "kernelspec": {
   "display_name": "GDSProj",
   "language": "python",
   "name": "python3"
  },
  "language_info": {
   "codemirror_mode": {
    "name": "ipython",
    "version": 3
   },
   "file_extension": ".py",
   "mimetype": "text/x-python",
   "name": "python",
   "nbconvert_exporter": "python",
   "pygments_lexer": "ipython3",
   "version": "3.11.7"
  }
 },
 "nbformat": 4,
 "nbformat_minor": 2
}
