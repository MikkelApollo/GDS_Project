{
 "cells": [
  {
   "cell_type": "code",
   "execution_count": 1,
   "metadata": {},
   "outputs": [
    {
     "name": "stderr",
     "output_type": "stream",
     "text": [
      "2024-04-04 23:10:42.273202: I tensorflow/core/platform/cpu_feature_guard.cc:210] This TensorFlow binary is optimized to use available CPU instructions in performance-critical operations.\n",
      "To enable the following instructions: AVX2 FMA, in other operations, rebuild TensorFlow with the appropriate compiler flags.\n"
     ]
    }
   ],
   "source": [
    "import pandas as pd\n",
    "from joblib import load\n",
    "from zeugma.embeddings import EmbeddingTransformer\n",
    "from sklearn.model_selection import train_test_split\n",
    "from sklearn.feature_extraction.text import CountVectorizer\n",
    "from sklearn.feature_extraction.text import TfidfTransformer\n",
    "from sklearn.linear_model import LogisticRegression\n",
    "from sklearn.preprocessing import StandardScaler\n",
    "from sklearn.neural_network import MLPClassifier\n",
    "from sklearn.pipeline import Pipeline\n",
    "from sklearn.metrics import f1_score\n",
    "from sklearn.metrics import ConfusionMatrixDisplay\n",
    "import matplotlib as plt"
   ]
  },
  {
   "cell_type": "code",
   "execution_count": null,
   "metadata": {},
   "outputs": [],
   "source": [
    "def get_binary_data(path):\n",
    "  reliable_types = ['clickbait', 'reliable', 'political']\n",
    "  all_types = ['clickbait', 'reliable', 'political', 'unreliable', 'fake', 'conspiracy', 'bias', 'junksci', 'satire', 'rumor']\n",
    "  df = pd.read_csv(path)\n",
    "  df = df.drop(df[~df.type.isin(all_types)].index)\n",
    "  df['type'] = np.where(df['type'].isin(reliable_types), 'reliable', 'fake')\n",
    "  return df\n",
    "\n",
    "def clean_string(str):\n",
    "  lst = str.strip(\"]['\").split(\"', '\")\n",
    "  res = ''\n",
    "  for word in lst:\n",
    "    res += word + ' '\n",
    "  return res\n",
    "\n",
    "def get_data(path):\n",
    "  types = ['clickbait', 'reliable', 'political', 'unreliable', 'fake', 'conspiracy', 'bias', 'junksci', 'satire', 'rumor']\n",
    "  df = pd.read_csv(path)\n",
    "  df = df.drop(df[~df.type.isin(types)].index)\n",
    "  for i in range(df.shape[0]):\n",
    "    df.iat[i,3] = clean_string(df.iat[i,3])\n",
    "  return df\n",
    "\n",
    "\n",
    "fnc_simple = get_binary_data('FNC_lemmatized.csv')\n",
    "rnc_simple = get_binary_data('RNC_lemmatized.csv')\n",
    "data_simple = pd.concat(fnc_simple, rnc_simple)\n",
    "test_sz_sim = int(data_simple.shape[0]/5)\n",
    "content_train_sim, content_test_sim, type_train_sim, type_test_sim = train_test_split(data_simple.content, data_simple.type, test_size=test_sz_sim, random_state=47)\n",
    "\n",
    "\n",
    "fnc_advanced = get_data('FNC_lemmatized.csv')\n",
    "rnc_advanced = get_data('RNC_lemmatized.csv')\n",
    "data_advanced = pd.concat(fnc_advanced, rnc_advanced)\n",
    "test_sz_adv = int(data_advanced.shape[0]/5)\n",
    "content_train_adv, content_test_adv, type_train_adv, type_test_adv = train_test_split(data_advanced.content, data_advanced.type, test_size=test_sz_adv, random_state=47)\n",
    "\n",
    "\n",
    "liar_simple = pd.read_csv('LIAR.csv')\n",
    "liar_advanced = pd.read_csv('LIAR.csv')\n",
    "for i in range(liar_advanced.shape[0]):\n",
    "    liar_advanced.iat[i,1] = clean_string(liar_advanced.iat[i,1])"
   ]
  },
  {
   "cell_type": "code",
   "execution_count": null,
   "metadata": {},
   "outputs": [],
   "source": [
    "def get_tokens(str):\n",
    "  return str.strip(\"]['\").split(\"', '\")\n",
    "\n",
    "simple_model = load('simple.joblib')\n",
    "advanced_model = load('advanced.joblib')"
   ]
  },
  {
   "cell_type": "code",
   "execution_count": null,
   "metadata": {},
   "outputs": [],
   "source": [
    "predicted_sim = simple_model.predict(content_test_sim)\n",
    "predicted_adv = advanced_model.predict(content_test_adv)\n",
    "\n",
    "print('Simple model F1-score   : {}'.format(f1_score(type_test_sim, predicted_sim)))\n",
    "print('Advanced model F1-score : {}'.format(f1_score(type_test_adv, predicted_adv, average='weighted')))\n",
    "\n",
    "ConfusionMatrixDisplay.from_predictions(type_test_sim, predicted_sim, simple_model.classes_)\n",
    "plt.show()\n",
    "\n",
    "ConfusionMatrixDisplay.from_predictions(type_test_adv, predicted_adv, advanced_model.classes_)\n",
    "plt.show()"
   ]
  }
 ],
 "metadata": {
  "kernelspec": {
   "display_name": "GDSProj",
   "language": "python",
   "name": "python3"
  },
  "language_info": {
   "codemirror_mode": {
    "name": "ipython",
    "version": 3
   },
   "file_extension": ".py",
   "mimetype": "text/x-python",
   "name": "python",
   "nbconvert_exporter": "python",
   "pygments_lexer": "ipython3",
   "version": "3.11.7"
  }
 },
 "nbformat": 4,
 "nbformat_minor": 2
}
